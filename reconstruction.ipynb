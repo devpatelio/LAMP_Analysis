{
 "cells": [
  {
   "cell_type": "code",
   "execution_count": 5,
   "id": "a696848e-0129-4849-a1eb-e0b425176097",
   "metadata": {},
   "outputs": [
    {
     "name": "stdout",
     "output_type": "stream",
     "text": [
      "3.8.12 (default, Oct 12 2021, 06:23:56) \n",
      "[Clang 10.0.0 ]\n"
     ]
    }
   ],
   "source": [
    "import torch\n",
    "import numpy as np\n",
    "import pandas as pd\n",
    "import matplotlib.pyplot as plt\n",
    "import sys\n",
    "import primer3\n",
    "import os\n",
    "\n",
    "print(sys.version)"
   ]
  },
  {
   "cell_type": "code",
   "execution_count": 75,
   "id": "8e744eb9-c0ff-4324-9bc3-cb1c9b8f1867",
   "metadata": {},
   "outputs": [
    {
     "name": "stdout",
     "output_type": "stream",
     "text": [
      "[\"F3: pos:64,length:19 bp, primer(5'-3'):AGATGTTTGACCCCAAGAA\", \"F2: pos:83,length:18 bp, primer(5'-3'):CATGATGGCTGCTTCTGA\", \"F1c: pos:132,length:24 bp, primer(5'-3'):GGAGATGTAAACTCACAAGATGGC\", \"B1c: pos:159,length:25 bp, primer(5'-3'):TCTCAATCTTTGTCTGTCCATTTGA\", \"B2: pos:204,length:24 bp, primer(5'-3'):GCTATTTGGTGAATAATGGTTAGT\", \"B3: pos:240,length:18 bp, primer(5'-3'):CTCAACCTCCTTCATGGC\", \"LF: pos:111,length:20 bp, primer(5'-3'):GAGCAAGTCAGGTAGCGACC\", 'LB: NULL']\n"
     ]
    }
   ],
   "source": [
    "#format glapd primer results\n",
    "\n",
    "root = '/Users/devpatelio/Downloads/Coding/'\n",
    "results_pth = root + 'LAMP_Analysis/primer-discovery/results/glapd/'\n",
    "keys, vals = [], []\n",
    "                   \n",
    "\n",
    "\n",
    "for path in os.listdir(results_pth):\n",
    "    with open(results_pth+path, 'r') as primers:\n",
    "        data = primers.read()\n",
    "        keys.append(path)\n",
    "        primers = [i for i in data.split('\\n')][:-1]\n",
    "        primers = [i[2:] for i in primers if (i[2]=='B') or (i[2]=='F') or (i[2]=='L')]\n",
    "        for s in primers:\n",
    "            primer_template = {'id': None, 'pos': 0, 'length': 0, 'seq': None}\n",
    "            primer_template = [s[:2], ]\n",
    "\n",
    "            \n",
    "        \n",
    "    break\n",
    "\n"
   ]
  },
  {
   "cell_type": "code",
   "execution_count": 79,
   "id": "cbe3e787-53bc-423a-8875-8729a4c2e55c",
   "metadata": {},
   "outputs": [
    {
     "name": "stdout",
     "output_type": "stream",
     "text": [
      "af\n"
     ]
    }
   ],
   "source": []
  },
  {
   "cell_type": "code",
   "execution_count": null,
   "id": "aab60fb2-646e-4b23-b417-e60cd18773e8",
   "metadata": {},
   "outputs": [],
   "source": []
  }
 ],
 "metadata": {
  "kernelspec": {
   "display_name": "machine_learning",
   "language": "python",
   "name": "machine_learning"
  },
  "language_info": {
   "codemirror_mode": {
    "name": "ipython",
    "version": 3
   },
   "file_extension": ".py",
   "mimetype": "text/x-python",
   "name": "python",
   "nbconvert_exporter": "python",
   "pygments_lexer": "ipython3",
   "version": "3.8.12"
  }
 },
 "nbformat": 4,
 "nbformat_minor": 5
}
