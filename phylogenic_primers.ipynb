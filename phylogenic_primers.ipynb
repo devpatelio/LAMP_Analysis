{
 "cells": [
  {
   "cell_type": "code",
   "execution_count": 31,
   "metadata": {},
   "outputs": [
    {
     "name": "stdout",
     "output_type": "stream",
     "text": [
      "3.7.12 | packaged by conda-forge | (default, Oct 26 2021, 05:59:23) \n",
      "[Clang 11.1.0 ]\n"
     ]
    }
   ],
   "source": [
    "import torch\n",
    "import numpy as np\n",
    "import pandas as pd\n",
    "import matplotlib.pyplot as plt\n",
    "import sys\n",
    "import primer3\n",
    "import os\n",
    "from Bio import Entrez, SeqIO\n",
    "import pathlib\n",
    "import json\n",
    "\n",
    "print(sys.version)"
   ]
  },
  {
   "cell_type": "code",
   "execution_count": 51,
   "metadata": {},
   "outputs": [
    {
     "name": "stdout",
     "output_type": "stream",
     "text": [
      "['OP295102.1', 'OP295101.1', 'NR_174713.1', 'OL604793.1', 'MZ930183.1', 'MZ930182.1', 'MZ930181.1', 'MZ749742.1', 'MZ749741.1', 'MZ749731.1', 'MZ749730.1', 'MZ749672.1', 'MZ749671.1', 'MZ749666.1', 'MZ749665.1', 'MZ749664.1', 'MZ749663.1', 'MZ749650.1', 'MZ749649.1', 'MZ711226.1']\n"
     ]
    }
   ],
   "source": [
    "Entrez.email = 'hello.devpatel@gmail.com'\n",
    "\n",
    "DIR = pathlib.Path.cwd() / 'fastas'\n",
    "\n",
    "ref_id = \"MKGJ01000001.1\"\n",
    "contig = \"CMW2656\"\n",
    "\n",
    "\n",
    "def write_ref(ref_id, contig, organism):\n",
    "    handle = Entrez.efetch(db='nucleotide', rettype='gbwithparts', retmode='text', id=ref_id)\n",
    "    record = SeqIO.read(handle, 'gb')\n",
    "    if os.path.exists(DIR / organism / f'{contig}.fasta'):\n",
    "        print('File already exists')\n",
    "    else:\n",
    "        SeqIO.write(record, DIR / organism / f'{contig}.fasta', 'fasta')\n",
    "        handle.close()\n",
    "        print(f'File written to {DIR / organism / f\"{contig}.fasta\"}')\n",
    "\n",
    "\n",
    "def search_ref(query):\n",
    "    handle = Entrez.esearch(db='nucleotide', term=query, idtype=\"acc\")\n",
    "    record = Entrez.read(handle)\n",
    "    return record\n",
    "    handle.close()\n",
    "\n",
    "ids = search_ref('txid5158[orgn] AND \"isolate\"[All Fields] AND \"internal transcribed spacer\"[All Fields]')\n",
    "ITS_Other = ids['IdList']\n",
    "print(ITS_Other)"
   ]
  },
  {
   "cell_type": "code",
   "execution_count": 57,
   "metadata": {},
   "outputs": [
    {
     "name": "stdout",
     "output_type": "stream",
     "text": [
      "['AY157956', 'HQ157542', 'FJ236733', 'FJ236721', 'HQ157546', 'HQ157544', 'AF395686', 'HQ157545', 'KF878326', 'AY157966', 'KF650948', 'AM712445', 'AM292204', 'MF033455', 'MF040712', 'EU588656', 'MT229127', 'HQ157548', 'KC261853', 'MT229128', 'AY953383', 'EF433302', 'EU588658', 'AY233867', 'EF127990', 'FJ151432', 'AY157965', 'HQ157540', 'AY157964', 'EF042605', 'AY526286', 'HQ157541', 'AY526291', 'AY157967', 'HQ157539']\n"
     ]
    }
   ],
   "source": [
    "#'https://www.ncbi.nlm.nih.gov/pmc/articles/PMC8053844/table/t1-PPJ-OA-08-2020-0147/?report=objectonly' download as html file and open in browser\n",
    "table_ITS_C_fimbriata = pd.read_html('/Users/devpatelio/Downloads/Table%20-%20PMC.html')\n",
    "accessions = []\n",
    "with open('/Users/devpatelio/Downloads/Table - PMC.txt', 'r') as f:\n",
    "    lines = f.readlines()\n",
    "    lines = [line.rstrip() for line in lines]\n",
    "    for line in lines:\n",
    "        if '''{\"type\":\"entrez-nucleotide\"''' in line:\n",
    "            accessions.append(line[-8:])\n",
    "            \n",
    "for x in ['KF878335', 'EU588636', 'MW013766', 'MW013767', 'EF433308', 'EF433311']:\n",
    "    try:\n",
    "        accessions.remove(x)\n",
    "    except:\n",
    "        print(x + ' not in list')\n",
    "    \n",
    "ITS_ALL = accessions[:35]\n",
    "print(ITS_ALL)\n",
    "\n",
    "APPLE_SCAB = 'MK478885.1 MK359025.1 MK504436.1 MK478887.1 MK359026.1 MK504428.1 MK504429.1 MK359032.1 MK530205.1 MK359027.1 MK359028.1 MK367580.1 MK504434.1 MK359029.1 MK504430.1 MK504437.1 MK504431.1 MK504435.1 MK359031.1 MK359030.1 MK583539.1 MK504432.1 MK504433.1 MK532037.1 MK532036.1 MK532035.1 MK532034.1 MK532033.1 MK532032.1 MK532031.1'.split(' ')"
   ]
  },
  {
   "cell_type": "code",
   "execution_count": 53,
   "metadata": {},
   "outputs": [
    {
     "name": "stdout",
     "output_type": "stream",
     "text": [
      "File already exists\n",
      "bretziella\n"
     ]
    }
   ],
   "source": [
    "\n",
    "isolates = {'bretziella': {'ITS': 'FJ347031', 'LSU': 'FJ347030', 'CMW2656': 'MKGJ01000001.1'}, \n",
    "            'ceratocystis': {'WBC': 'MW013767.1', 'WRC': 0, 'ITS_Other': ITS_Other, 'ITS_ALL': ITS_ALL},\n",
    "            'venturia': {'ITS_ALL': APPLE_SCAB}}\n",
    "\n",
    "write_ref(ref_id, contig, list(isolates.keys())[0])\n",
    "\n",
    "##Possible Query Search for search_ref\n",
    "genus = [f\"{x}[Organism]\" for x in list(isolates.keys())]\n",
    "title = ['internal transcribed spacer[Title]']\n",
    "query = ' OR '.join(genus) + ' AND ' + ' OR '.join(title)\n",
    "\n",
    "print(list(isolates.keys())[0])"
   ]
  },
  {
   "cell_type": "code",
   "execution_count": 29,
   "metadata": {},
   "outputs": [
    {
     "name": "stdout",
     "output_type": "stream",
     "text": [
      "ID: AY157956.1\n",
      "Name: AY157956\n",
      "Description: Ceratocystis fimbriata isolate C1418 internal transcribed spacer 1, partial sequence; 5.8S ribosomal RNA gene, complete sequence; and internal transcribed spacer 2, partial sequence\n",
      "Number of features: 4\n",
      "/molecule_type=DNA\n",
      "/topology=linear\n",
      "/data_file_division=PLN\n",
      "/date=19-APR-2004\n",
      "/accessions=['AY157956']\n",
      "/sequence_version=1\n",
      "/keywords=['']\n",
      "/source=Ceratocystis fimbriata\n",
      "/organism=Ceratocystis fimbriata\n",
      "/taxonomy=['Eukaryota', 'Fungi', 'Dikarya', 'Ascomycota', 'Pezizomycotina', 'Sordariomycetes', 'Hypocreomycetidae', 'Microascales', 'Ceratocystidaceae', 'Ceratocystis']\n",
      "/references=[Reference(title='Genetic Variability and Host Specialization in the Latin American Clade of Ceratocystis fimbriata', ...), Reference(title='Direct Submission', ...)]\n",
      "Seq('CTGAGTTTTTGTACTCTATAAACCATGTGTGAACGTACCTATCTTGTAGTGAGA...CAA')\n"
     ]
    }
   ],
   "source": [
    "handle = Entrez.efetch(db='nucleotide', rettype='gb', retmode='text', id='AY157956.1')\n",
    "record = SeqIO.read(handle, 'gb')\n",
    "print(record)"
   ]
  }
 ],
 "metadata": {
  "kernelspec": {
   "display_name": "Python 3.7.12 ('comp_bio')",
   "language": "python",
   "name": "python3"
  },
  "language_info": {
   "codemirror_mode": {
    "name": "ipython",
    "version": 3
   },
   "file_extension": ".py",
   "mimetype": "text/x-python",
   "name": "python",
   "nbconvert_exporter": "python",
   "pygments_lexer": "ipython3",
   "version": "3.7.12"
  },
  "orig_nbformat": 4,
  "vscode": {
   "interpreter": {
    "hash": "fac2f4fe459eb197d3865d79ba4de9b9e90f557b8d6578c2106f187bc13abee1"
   }
  }
 },
 "nbformat": 4,
 "nbformat_minor": 2
}
